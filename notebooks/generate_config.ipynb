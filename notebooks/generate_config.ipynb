{
 "cells": [
  {
   "cell_type": "code",
   "execution_count": 53,
   "metadata": {},
   "outputs": [],
   "source": [
    "import sys; sys.path.insert(0, '..')\n",
    "\n",
    "from src.models.mnist_module import MNISTLitModule"
   ]
  },
  {
   "cell_type": "code",
   "execution_count": 115,
   "metadata": {},
   "outputs": [],
   "source": [
    "from omegaconf import OmegaConf\n",
    "\n",
    "dd = OmegaConf.load('../configs/experiment/example.yaml')"
   ]
  },
  {
   "cell_type": "code",
   "execution_count": 116,
   "metadata": {},
   "outputs": [
    {
     "data": {
      "text/plain": [
       "{'defaults': [{'override /datamodule': 'mnist.yaml'}, {'override /model': 'mnist.yaml'}, {'override /callbacks': 'default.yaml'}, {'override /logger': None}, {'override /trainer': 'default.yaml'}], 'name': 'simple_dense_net', 'seed': 12345, 'trainer': {'min_epochs': 10, 'max_epochs': 10, 'gradient_clip_val': 0.5}, 'model': {'lr': 0.002, 'net': {'lin1_size': 128, 'lin2_size': 256, 'lin3_size': 64}}, 'datamodule': {'batch_size': 64}, 'logger': {'wandb': {'tags': ['mnist', '${name}']}}}"
      ]
     },
     "execution_count": 116,
     "metadata": {},
     "output_type": "execute_result"
    }
   ],
   "source": [
    "dd"
   ]
  },
  {
   "cell_type": "code",
   "execution_count": 64,
   "metadata": {},
   "outputs": [
    {
     "name": "stdout",
     "output_type": "stream",
     "text": [
      "['torch']\n",
      "['typing: Any', 'typing: List', 'pytorch_lightning: LightningModule', 'torchmetrics: MaxMetric', 'torchmetrics.classification.accuracy: Accuracy', 'src.models.components.simple_dense_net: SimpleDenseNet']\n",
      "MNISTLitModule\n",
      "[None, 'SimpleDenseNet', 'float', 'float']\n",
      "arg: self  default: None\n",
      "arg: net  default: None\n",
      "arg: lr  default: 0.001\n",
      "arg: weight_decay  default: 0.0005\n"
     ]
    }
   ],
   "source": [
    "import ast\n",
    "\n",
    "with open(\"../src/models/mnist_module.py\", \"r\") as source:\n",
    "    tree = ast.parse(source.read())\n",
    "\n",
    "model_name = 'mnist'\n",
    "# class_names = [f'{model_name}{m}' for m in ['model', 'module']]\n",
    "classes = [n for n in tree.body if isinstance(n, ast.ClassDef)]\n",
    "imports = [n for n in tree.body if isinstance(n, ast.Import)]\n",
    "imports_from = [n for n in tree.body if isinstance(n, ast.ImportFrom)]\n",
    "print([name.name for imp in imports for name in imp.names])\n",
    "print([f'{imp.module}: {name.name}' for imp in imports_from for name in imp.names])\n",
    "for class_ in classes:\n",
    "    print(class_.name)\n",
    "    if model_name in class_.name.lower():\n",
    "        init = next((n for n in class_.body if isinstance(n, ast.FunctionDef) and n.name == '__init__'))\n",
    "        args = init.args.args\n",
    "        defaults = [None]*(len(args)-len(init.args.defaults)) + [d.value for d in init.args.defaults]\n",
    "        annotations = [arg.annotation.id if isinstance(arg.annotation, ast.Name) else None for arg in args]\n",
    "        print(annotations)\n",
    "\n",
    "        for arg, df in zip(args, defaults):\n",
    "            print(f'arg: {arg.arg}  default: {df}')\n",
    "\n",
    "        break\n",
    "\n"
   ]
  },
  {
   "cell_type": "code",
   "execution_count": 65,
   "metadata": {},
   "outputs": [
    {
     "data": {
      "text/plain": [
       "[None, 'SimpleDenseNet', 'float', 'float']"
      ]
     },
     "execution_count": 65,
     "metadata": {},
     "output_type": "execute_result"
    }
   ],
   "source": [
    "annotations"
   ]
  },
  {
   "cell_type": "code",
   "execution_count": 106,
   "metadata": {},
   "outputs": [],
   "source": [
    "import ast\n",
    "\n",
    "\n",
    "def recursively_update_class_arguments(argument_dict, class_name, module, prefix='../', add_target=True):\n",
    "    \n",
    "    with open(prefix + module.replace('.', '/') + '.py', \"r\") as source:\n",
    "        tree = ast.parse(source.read())\n",
    "    \n",
    "    imports_from = [n for n in tree.body if isinstance(n, ast.ImportFrom)]\n",
    "    import_dict = {name.name: imp.module for imp in imports_from for name in imp.names}\n",
    "    classes = [n for n in tree.body if isinstance(n, ast.ClassDef)]\n",
    "    for class_ in classes:\n",
    "        if class_.name == class_name:\n",
    "            if add_target:\n",
    "                argument_dict['_target_'] = f'{module}.{class_name}'\n",
    "            init = next((n for n in class_.body if isinstance(n, ast.FunctionDef) and n.name == '__init__'))\n",
    "            if init is None:\n",
    "                return\n",
    "            args = init.args.args[1:]  # drop self\n",
    "            defaults = ['???']*(len(args)-len(init.args.defaults)) + [ast.literal_eval(df) for df in init.args.defaults]\n",
    "            annotations = [arg.annotation.id if isinstance(arg.annotation, ast.Name) else None for arg in args]\n",
    "            \n",
    "            for arg, dft, ann in zip(args, defaults, annotations):\n",
    "                if dft == '???' and ann is not None and import_dict.get(ann) is not None:\n",
    "                    argument_dict[arg.arg] = {}\n",
    "                    recursively_update_class_arguments(argument_dict[arg.arg], ann, import_dict[ann])\n",
    "                else:\n",
    "                    argument_dict[arg.arg] = dft\n"
   ]
  },
  {
   "cell_type": "code",
   "execution_count": 107,
   "metadata": {},
   "outputs": [
    {
     "data": {
      "text/plain": [
       "0.0005"
      ]
     },
     "execution_count": 107,
     "metadata": {},
     "output_type": "execute_result"
    }
   ],
   "source": [
    "df"
   ]
  },
  {
   "cell_type": "code",
   "execution_count": 111,
   "metadata": {},
   "outputs": [],
   "source": [
    "d = {}\n",
    "recursively_update_class_arguments(d, 'MNISTLitModule', 'src.models.mnist_module')\n",
    "dd = {}\n",
    "recursively_update_class_arguments(dd, 'MNISTDataModule', 'src.datamodules.mnist_datamodule')\n"
   ]
  },
  {
   "cell_type": "code",
   "execution_count": 112,
   "metadata": {},
   "outputs": [
    {
     "data": {
      "text/plain": [
       "{'_target_': 'src.datamodules.mnist_datamodule.MNISTDataModule',\n",
       " 'data_dir': 'data/',\n",
       " 'train_val_test_split': (55000, 5000, 10000),\n",
       " 'batch_size': 64,\n",
       " 'num_workers': 0,\n",
       " 'pin_memory': False}"
      ]
     },
     "execution_count": 112,
     "metadata": {},
     "output_type": "execute_result"
    }
   ],
   "source": [
    "dd"
   ]
  },
  {
   "cell_type": "code",
   "execution_count": 89,
   "metadata": {},
   "outputs": [],
   "source": [
    "import yaml\n",
    "\n",
    "with open('pippo.yaml', 'w') as p:\n",
    "    yaml.dump(d, p)"
   ]
  },
  {
   "cell_type": "code",
   "execution_count": 78,
   "metadata": {},
   "outputs": [
    {
     "data": {
      "text/plain": [
       "'self'"
      ]
     },
     "execution_count": 78,
     "metadata": {},
     "output_type": "execute_result"
    }
   ],
   "source": [
    "ugo = list(d.keys())[0]\n",
    "ugo.arg"
   ]
  },
  {
   "cell_type": "code",
   "execution_count": 31,
   "metadata": {},
   "outputs": [
    {
     "name": "stdout",
     "output_type": "stream",
     "text": [
      "Class name: MNISTLitModule\n",
      "Function name: __init__\n",
      "Args:\n",
      "\tParameter name: self \t default value: 0.001\n",
      "\tParameter name: net \t default value: 0.0005\n",
      "Function name: forward\n",
      "Args:\n",
      "Function name: step\n",
      "Args:\n",
      "Function name: training_step\n",
      "Args:\n",
      "Function name: training_epoch_end\n",
      "Args:\n",
      "Function name: validation_step\n",
      "Args:\n",
      "Function name: validation_epoch_end\n",
      "Args:\n",
      "Function name: test_step\n",
      "Args:\n",
      "Function name: test_epoch_end\n",
      "Args:\n",
      "Function name: on_epoch_end\n",
      "Args:\n",
      "Function name: configure_optimizers\n",
      "Args:\n"
     ]
    }
   ],
   "source": [
    "def show_info(functionNode):\n",
    "    print(\"Function name:\", functionNode.name)\n",
    "    print(\"Args:\")\n",
    "    for arg, def_val in zip(functionNode.args.args, functionNode.args.defaults):\n",
    "        #import pdb; pdb.set_trace()\n",
    "        print(f\"\\tParameter name: {arg.arg} \\t default value: {def_val.value}\")\n",
    "\n",
    "\n",
    "# filename = \"untrusted.py\"\n",
    "with open(\"../src/models/mnist_module.py\", \"r\") as file:\n",
    "    node = ast.parse(file.read())\n",
    "\n",
    "functions = [n for n in node.body if isinstance(n, ast.FunctionDef)]\n",
    "classes = [n for n in node.body if isinstance(n, ast.ClassDef)]\n",
    "\n",
    "for function in functions:\n",
    "    show_info(function)\n",
    "\n",
    "for class_ in classes:\n",
    "    print(\"Class name:\", class_.name)\n",
    "    methods = [n for n in class_.body if isinstance(n, ast.FunctionDef)]\n",
    "    for method in methods:\n",
    "        show_info(method)"
   ]
  },
  {
   "cell_type": "code",
   "execution_count": 41,
   "metadata": {},
   "outputs": [],
   "source": [
    "method = methods[0]"
   ]
  },
  {
   "cell_type": "code",
   "execution_count": 45,
   "metadata": {},
   "outputs": [
    {
     "name": "stdout",
     "output_type": "stream",
     "text": [
      "<ast.Attribute object at 0x7fab8bd56a00>\n"
     ]
    }
   ],
   "source": [
    "print(method.args.args[1].annotation)"
   ]
  },
  {
   "cell_type": "code",
   "execution_count": 25,
   "metadata": {},
   "outputs": [
    {
     "data": {
      "text/plain": [
       "'__init__'"
      ]
     },
     "execution_count": 25,
     "metadata": {},
     "output_type": "execute_result"
    }
   ],
   "source": [
    "method.name"
   ]
  },
  {
   "cell_type": "code",
   "execution_count": null,
   "metadata": {},
   "outputs": [],
   "source": []
  },
  {
   "cell_type": "code",
   "execution_count": null,
   "metadata": {},
   "outputs": [],
   "source": []
  }
 ],
 "metadata": {
  "interpreter": {
   "hash": "e288a398475f671bfe510d0313a01973742d765cbc40a8106fc64ecda04621a5"
  },
  "kernelspec": {
   "display_name": "Python 3.9.7 ('base')",
   "language": "python",
   "name": "python3"
  },
  "language_info": {
   "codemirror_mode": {
    "name": "ipython",
    "version": 3
   },
   "file_extension": ".py",
   "mimetype": "text/x-python",
   "name": "python",
   "nbconvert_exporter": "python",
   "pygments_lexer": "ipython3",
   "version": "3.9.12"
  },
  "orig_nbformat": 4
 },
 "nbformat": 4,
 "nbformat_minor": 2
}
